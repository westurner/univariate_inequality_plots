{
 "cells": [
  {
   "cell_type": "markdown",
   "metadata": {},
   "source": [
    "## Univariate Inequality Plots w/ matplotlib"
   ]
  },
  {
   "cell_type": "code",
   "execution_count": 1,
   "metadata": {},
   "outputs": [],
   "source": [
    "#!pip install matplotlib"
   ]
  },
  {
   "cell_type": "code",
   "execution_count": 2,
   "metadata": {},
   "outputs": [],
   "source": [
    "import matplotlib.pyplot as plt\n",
    "from mpl_toolkits.axisartist import Subplot\n",
    "\n",
    "def plot_univariate_inequality(\n",
    "    xdata,\n",
    "    inclusive=False,\n",
    "    raycolor='blue',\n",
    "    bgcolor='white',\n",
    "    xlim=None,\n",
    "    figsize=(5, 0.5),\n",
    "    figure=None,\n",
    "    title=None,\n",
    "    **kwargs):\n",
    "    \"\"\"Plot a chart of a univariate inequality ray with matplotlib\n",
    "    \n",
    "    Args:\n",
    "        xdata (list, tuple): endpoints of the ray: ``[start, ..., end]``\n",
    "        \n",
    "    Kwargs:\n",
    "        inclusive (bool): if True, draw a filled circle; if False, draw a circle without fill\n",
    "        raycolor (str): matplotlib color of the line and markers\n",
    "        bgcolor (str): matplotlib color for the background and circle without fill\n",
    "        xlim (None, True, or list/tuple): if True, calculate defaults for xmin and xmax of the x-axis\n",
    "        figsize (tuple): matplotlib figsize\n",
    "        figure (None or matplotlib.figure.Figure): Figure to add a plot to\n",
    "        title (None or str): Title to add the the plot\n",
    "        kwargs: all other kwargs will be passed to `plt.figure()`\n",
    "        \n",
    "    Returns:\n",
    "        matplotlib.figure.Figure: inequality figure\n",
    "    \"\"\"\n",
    "\n",
    "    _xdata = sorted(xdata)\n",
    "    xstart = _xdata[0]\n",
    "    xend = _xdata[-1]\n",
    "    lefttoright = xstart <= xend\n",
    "    lefttoright2 = xdata[0] <= xdata[-1]\n",
    "\n",
    "    fig1 = figure or plt.figure(figsize=figsize, facecolor=bgcolor, **kwargs)\n",
    "    ax1 = Subplot(fig1, 111)\n",
    "    fig1.add_subplot(ax1)\n",
    "\n",
    "    style = {}\n",
    "    style['linewidth'] = 4\n",
    "    style['linestyle'] = 'solid'\n",
    "    style['color'] = raycolor\n",
    "    style['marker'] = 'o'\n",
    "    style['markersize'] = 12\n",
    "    style['markevery'] = [0] if lefttoright else [-1]\n",
    "    style['markerfacecolor'] = raycolor if inclusive else bgcolor \n",
    "    style['markeredgecolor'] = raycolor\n",
    "    style['markeredgewidth'] = 4\n",
    "    \n",
    "    arrowstyle = {}\n",
    "    arrowstyle['marker'] = '>' if lefttoright2 else '<'\n",
    "    arrowstyle['markersize'] = 12\n",
    "    arrowstyle['markerfacecolor'] = raycolor\n",
    "    arrowstyle['markeredgecolor'] = raycolor\n",
    "    arrowy = xdata[-1] if lefttoright else xdata[0]\n",
    "    \n",
    "    ax1.set(ylim=(-0.5, 1))\n",
    "    \n",
    "    if xlim is True:\n",
    "        xlim = (float(xstart - 1), float(xend + 0.5))\n",
    "    if xlim:\n",
    "        ax1.set(xlim=xlim)\n",
    "\n",
    "    ax1.axis[\"left\"].set_visible(False)\n",
    "    ax1.axis[\"right\"].set_visible(False)\n",
    "    ax1.axis[\"top\"].set_visible(False)\n",
    "\n",
    "    #ax1.axis[\"bottom\"].set_axisline_style(axisline_style=\"->\", size=2)\n",
    "    ax1.plot(1, -0.5, \">k\", transform=ax1.get_yaxis_transform(), clip_on=False)\n",
    "    ax1.plot(0, -0.5, \"<k\", transform=ax1.get_yaxis_transform(), clip_on=False)\n",
    "    \n",
    "    _x = [xval for xval in xdata]\n",
    "    _y = [0 for xval in xdata]\n",
    "    plt.plot(_x, _y, **style)\n",
    "    if title:\n",
    "        ax1.set_title(title)\n",
    "    plt.plot(arrowy, 0, **arrowstyle)\n",
    "    return fig1\n",
    "\n",
    "x = [-1, 3]\n",
    "output = plot_univariate_inequality(x)"
   ]
  },
  {
   "cell_type": "code",
   "execution_count": 3,
   "metadata": {},
   "outputs": [
    {
     "data": {
      "image/png": "[encoded data removed]",
      "text/plain": [
       "<Figure size 360x36 with 1 Axes>"
      ]
     },
     "metadata": {},
     "output_type": "display_data"
    }
   ],
   "source": [
    "x = [-1, 3]\n",
    "output = plot_univariate_inequality(x, xlim=True, title=\"x > -1\")"
   ]
  },
  {
   "cell_type": "code",
   "execution_count": 4,
   "metadata": {},
   "outputs": [
    {
     "data": {
      "image/png": "[encoded data removed]",
      "text/plain": [
       "<Figure size 360x36 with 1 Axes>"
      ]
     },
     "metadata": {},
     "output_type": "display_data"
    }
   ],
   "source": [
    "x = [3, -1]\n",
    "output = plot_univariate_inequality(x, xlim=True, title=\"x < -3\")"
   ]
  },
  {
   "cell_type": "code",
   "execution_count": 5,
   "metadata": {},
   "outputs": [
    {
     "data": {
      "image/png": "[encoded data removed]",
      "text/plain": [
       "<Figure size 360x36 with 1 Axes>"
      ]
     },
     "metadata": {},
     "output_type": "display_data"
    }
   ],
   "source": [
    "x = [-2, 5]\n",
    "output = plot_univariate_inequality(x, xlim=True)"
   ]
  },
  {
   "cell_type": "code",
   "execution_count": 6,
   "metadata": {},
   "outputs": [
    {
     "data": {
      "image/png": "[encoded data removed]",
      "text/plain": [
       "<Figure size 360x36 with 1 Axes>"
      ]
     },
     "metadata": {},
     "output_type": "display_data"
    }
   ],
   "source": [
    "x = [-1, 3]\n",
    "output = plot_univariate_inequality(x, inclusive=True, xlim=True, title=\"x >= -1\")"
   ]
  },
  {
   "cell_type": "markdown",
   "metadata": {},
   "source": [
    "## Sympy inequalities\n",
    "- https://docs.sympy.org/latest/modules/core.html#greaterthan"
   ]
  },
  {
   "cell_type": "code",
   "execution_count": 7,
   "metadata": {},
   "outputs": [],
   "source": [
    "#!pip install sympy"
   ]
  },
  {
   "cell_type": "code",
   "execution_count": 8,
   "metadata": {},
   "outputs": [
    {
     "data": {
      "text/latex": [
       "$\\displaystyle -3 \\leq x$"
      ],
      "text/plain": [
       "-3 <= x"
      ]
     },
     "execution_count": 8,
     "metadata": {},
     "output_type": "execute_result"
    }
   ],
   "source": [
    "import sympy\n",
    "from sympy import symbols, Eq, solve\n",
    "x = symbols('x', real=True)\n",
    "expr = sympy.solve(x >= -3)\n",
    "expr"
   ]
  },
  {
   "cell_type": "code",
   "execution_count": 9,
   "metadata": {},
   "outputs": [
    {
     "data": {
      "text/latex": [
       "$\\displaystyle -3 \\leq x$"
      ],
      "text/plain": [
       "-3 <= x"
      ]
     },
     "metadata": {},
     "output_type": "display_data"
    },
    {
     "data": {
      "text/plain": [
       "'-3 \\\\leq x'"
      ]
     },
     "metadata": {},
     "output_type": "display_data"
    },
    {
     "name": "stdout",
     "output_type": "stream",
     "text": [
      "## pprint\n",
      "-3 ≤ x\n",
      "-3 ≤ x\n",
      "-3 <= x\n",
      "## str, repr\n"
     ]
    },
    {
     "data": {
      "text/plain": [
       "'-3 <= x'"
      ]
     },
     "metadata": {},
     "output_type": "display_data"
    },
    {
     "data": {
      "text/plain": [
       "'-3 <= x'"
      ]
     },
     "metadata": {},
     "output_type": "display_data"
    }
   ],
   "source": [
    "display(expr)\n",
    "display(sympy.latex(expr))\n",
    "print('## pprint')\n",
    "sympy.pprint(expr)\n",
    "sympy.pprint(expr, use_unicode=True)\n",
    "sympy.pprint(expr, use_unicode=False)\n",
    "print('## str, repr')\n",
    "display(str(expr))\n",
    "display(repr(expr))"
   ]
  },
  {
   "cell_type": "code",
   "execution_count": 10,
   "metadata": {},
   "outputs": [
    {
     "data": {
      "text/plain": [
       "(-3, x)"
      ]
     },
     "metadata": {},
     "output_type": "display_data"
    },
    {
     "data": {
      "text/plain": [
       "(-3, x)"
      ]
     },
     "metadata": {},
     "output_type": "display_data"
    }
   ],
   "source": [
    "display((expr.lhs, expr.rhs))  # left-hand side, # right-hand side\n",
    "display((expr.lts, expr.gts))  # less-than side, # greater-than side\n",
    "# Sympy rewrites inequalities so that the left-hand side is the less-than-side:\n",
    "assert expr.lhs == expr.lts\n",
    "assert expr.rhs == expr.gts"
   ]
  },
  {
   "cell_type": "code",
   "execution_count": 11,
   "metadata": {},
   "outputs": [
    {
     "data": {
      "text/latex": [
       "$\\displaystyle x \\leq 10$"
      ],
      "text/plain": [
       "x <= 10"
      ]
     },
     "metadata": {},
     "output_type": "display_data"
    },
    {
     "data": {
      "text/latex": [
       "$\\displaystyle x \\leq 10$"
      ],
      "text/plain": [
       "x <= 10"
      ]
     },
     "metadata": {},
     "output_type": "display_data"
    },
    {
     "data": {
      "text/latex": [
       "$\\displaystyle x \\leq 10$"
      ],
      "text/plain": [
       "x <= 10"
      ]
     },
     "metadata": {},
     "output_type": "display_data"
    },
    {
     "data": {
      "text/latex": [
       "$\\displaystyle x \\leq 10$"
      ],
      "text/plain": [
       "x <= 10"
      ]
     },
     "metadata": {},
     "output_type": "display_data"
    },
    {
     "data": {
      "text/plain": [
       "(x, 10)"
      ]
     },
     "metadata": {},
     "output_type": "display_data"
    },
    {
     "data": {
      "text/plain": [
       "(x, 10)"
      ]
     },
     "metadata": {},
     "output_type": "display_data"
    },
    {
     "data": {
      "text/plain": [
       "(x, 10)"
      ]
     },
     "metadata": {},
     "output_type": "display_data"
    }
   ],
   "source": [
    "expr = sympy.solve(x <= 10)\n",
    "expr2 = sympy.LessThan(x, 10)\n",
    "expr3 = (x <= 10)\n",
    "expr4 = (10 >= x)\n",
    "display(expr, expr2, expr3, expr4)\n",
    "assert expr == expr2 == expr3 == expr4\n",
    "# Sympy rewrites inequalities so that the left-hand side is the less-than-side:\n",
    "assert (expr.lhs, expr.rhs) == (expr.lts, expr.gts)\n",
    "assert (expr4.lhs, expr4.rhs) == (expr4.lts, expr4.gts)\n",
    "display((expr2.lts, expr2.gts))\n",
    "display((expr3.lts, expr3.gts))\n",
    "display((expr4.lts, expr4.gts))"
   ]
  },
  {
   "cell_type": "code",
   "execution_count": 12,
   "metadata": {},
   "outputs": [
    {
     "data": {
      "text/plain": [
       "'<='"
      ]
     },
     "execution_count": 12,
     "metadata": {},
     "output_type": "execute_result"
    }
   ],
   "source": [
    "expr.rel_op"
   ]
  },
  {
   "cell_type": "code",
   "execution_count": 13,
   "metadata": {},
   "outputs": [],
   "source": [
    "REL_OP_MAP = {\n",
    "    '<=': dict(offset=-1, inclusive=True),\n",
    "    '<': dict(offset=-1, inclusive=False),\n",
    "    '>=': dict(offset=1, inclusive=True),\n",
    "    '>': dict(offset=1, inclusive=False),\n",
    "}\n",
    "\n",
    "def get_points_from_ineq_expr(expr, offsetmultiplier=5):\n",
    "    xstart = expr.gts if expr.rel_op in {'<=', '<'} else expr.lts\n",
    "    kwargs = REL_OP_MAP.get(expr.rel_op).copy()\n",
    "    xend = xstart + (kwargs.pop('offset') * offsetmultiplier)\n",
    "    x = [xstart, xend]\n",
    "    return x, kwargs\n",
    "\n",
    "x = symbols('x', real=True)\n",
    "\n",
    "xdata, kwargs = get_points_from_ineq_expr(x <= 3)\n",
    "assert xdata == [3, -2]\n",
    "assert kwargs == dict(inclusive=True)\n",
    "\n",
    "xdata, kwargs = get_points_from_ineq_expr(x <= 5)\n",
    "assert xdata == [5, 0]\n",
    "assert kwargs == dict(inclusive=True)\n",
    "\n",
    "xdata, kwargs = get_points_from_ineq_expr(x > 4)\n",
    "assert xdata == [4, 9]\n",
    "assert kwargs == dict(inclusive=False)"
   ]
  },
  {
   "cell_type": "code",
   "execution_count": 14,
   "metadata": {},
   "outputs": [
    {
     "data": {
      "image/png": "[encoded data removed]",
      "text/plain": [
       "<Figure size 360x36 with 1 Axes>"
      ]
     },
     "metadata": {},
     "output_type": "display_data"
    },
    {
     "data": {
      "image/png": "[encoded data removed]",
      "text/plain": [
       "<Figure size 360x36 with 1 Axes>"
      ]
     },
     "metadata": {},
     "output_type": "display_data"
    },
    {
     "data": {
      "image/png": "[encoded data removed]",
      "text/plain": [
       "<Figure size 360x36 with 1 Axes>"
      ]
     },
     "metadata": {},
     "output_type": "display_data"
    }
   ],
   "source": [
    "def plot_ineq_expr(expr, **kwargs):\n",
    "    xdata, kwargs = get_points_from_ineq_expr(expr)\n",
    "    kwargs.setdefault('xlim', True)\n",
    "    kwargs.setdefault('title', f'${sympy.latex(expr)}$')\n",
    "    return plot_univariate_inequality(xdata, **kwargs)\n",
    "\n",
    "x = symbols('x', real=True)\n",
    "output = plot_ineq_expr(x >= 3)\n",
    "output = plot_ineq_expr(10 > x)\n",
    "output = plot_ineq_expr(100 >= x)"
   ]
  },
  {
   "cell_type": "code",
   "execution_count": null,
   "metadata": {},
   "outputs": [],
   "source": []
  }
 ],
 "metadata": {
  "kernelspec": {
   "display_name": "Python 3",
   "language": "python",
   "name": "python3"
  },
  "language_info": {
   "codemirror_mode": {
    "name": "ipython",
    "version": 3
   },
   "file_extension": ".py",
   "mimetype": "text/x-python",
   "name": "python",
   "nbconvert_exporter": "python",
   "pygments_lexer": "ipython3",
   "version": "3.6.8"
  }
 },
 "nbformat": 4,
 "nbformat_minor": 4
}
